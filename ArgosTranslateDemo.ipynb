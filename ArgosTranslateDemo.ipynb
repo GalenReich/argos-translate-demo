{
  "cells": [
    {
      "cell_type": "markdown",
      "metadata": {
        "id": "wKUrsEVr7fSZ"
      },
      "source": [
        "# Argos Translate Demo\n",
        "\n",
        "This notebook provides a quick demonstration of [argos-translate](https://github.com/argosopentech/argos-translate) for translation. It adapts example code from the [argos-translate](https://github.com/argosopentech/argos-translate) README, and wraps it up in an executable notebook for ease.\n",
        "\n",
        "This notebook demonstrates translation from French to English."
      ]
    },
    {
      "cell_type": "code",
      "execution_count": null,
      "metadata": {
        "id": "zhzxs3NZyke8"
      },
      "outputs": [],
      "source": [
        "# Install argos translate\n",
        "%pip install argostranslate -q"
      ]
    },
    {
      "cell_type": "code",
      "execution_count": null,
      "metadata": {
        "id": "OM-FNHFLwkD5"
      },
      "outputs": [],
      "source": [
        "# Set up language-specific translation package\n",
        "import argostranslate.package\n",
        "import argostranslate.translate\n",
        "from tqdm import tqdm\n",
        "\n",
        "from_code = \"fr\"\n",
        "to_code = \"en\"\n",
        "\n",
        "# Download and install Argos Translate package\n",
        "argostranslate.package.update_package_index()\n",
        "available_packages = argostranslate.package.get_available_packages()\n",
        "package_to_install = next(\n",
        "    filter(\n",
        "        lambda x: x.from_code == from_code and x.to_code == to_code, available_packages\n",
        "    )\n",
        ")\n",
        "argostranslate.package.install_from_path(package_to_install.download())\n",
        "\n",
        "# Define a simple function to count the number of lines in the file\n",
        "def simplecount(filename):\n",
        "    lines = 0\n",
        "    for _ in open(filename):\n",
        "        lines += 1\n",
        "    return lines"
      ]
    },
    {
      "cell_type": "code",
      "execution_count": null,
      "metadata": {
        "id": "ZV3B-PjH4DQO"
      },
      "outputs": [],
      "source": [
        "# Get some lines of French from Descartes\n",
        "!wget https://www.gutenberg.org/cache/epub/13846/pg13846.txt -O - | sed -n '508,608p;609q' >text.txt"
      ]
    },
    {
      "cell_type": "code",
      "execution_count": null,
      "metadata": {
        "id": "Uitkd5lnxDOk"
      },
      "outputs": [],
      "source": [
        "# Translate it line by line\n",
        "# Note that this is not a good method for translating a book because each line\n",
        "# segment is translated separately (without context)\n",
        "input_filename = \"text.txt\"\n",
        "output_filename = \"translated_text.txt\"\n",
        "\n",
        "number_of_lines_in_file = simplecount(input_filename)\n",
        "\n",
        "with open(input_filename, \"r\") as input_file:\n",
        "  with open(output_filename, \"w\") as output_file:\n",
        "    for line in tqdm(input_file,total=number_of_lines_in_file):\n",
        "      translatedText = argostranslate.translate.translate(line, from_code, to_code)\n",
        "      output_file.write(translatedText)"
      ]
    },
    {
      "cell_type": "code",
      "execution_count": null,
      "metadata": {
        "id": "idt7nEYQzAxw"
      },
      "outputs": [],
      "source": [
        "# Check the results\n",
        "!cat translated_text.txt"
      ]
    }
  ],
  "metadata": {
    "colab": {
      "provenance": []
    },
    "kernelspec": {
      "display_name": "Python 3",
      "name": "python3"
    },
    "language_info": {
      "codemirror_mode": {
        "name": "ipython",
        "version": 3
      },
      "file_extension": ".py",
      "mimetype": "text/x-python",
      "name": "python",
      "nbconvert_exporter": "python",
      "pygments_lexer": "ipython3",
      "version": "3.12.1"
    }
  },
  "nbformat": 4,
  "nbformat_minor": 0
}
